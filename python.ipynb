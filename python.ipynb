{
 "cells": [
  {
   "cell_type": "markdown",
   "metadata": {},
   "source": [
    "<img src=img/ganimedes.jpg style=\"float:right;\">\n",
    "<p>Ganimedes, uma das 12 luas de Júpiter, tem <a href=https://solarsystem.nasa.gov/moons/jupiter-moons/ganymede/by-the-numbers/> 2.631,2 km de raio</a>. Qual é a área da superfície de Ganimedes?</p>\n",
    "<p>Na variável <b>raio</b> colocamos o valor do raio (2631.2). O valor (usando ponto para separar a parte intera da fracionária) fica guardado na variável, que então pode ser usada a qualquer momento, sem precisar redigitar o valor.</p>\n",
    "<p>A área da superfície é calculada usando o quadrado do diâmetro multiplicado por pi. O valor de pi está na biblioteca math, em uma constante chamada <b>pi</b>.</p>"
   ]
  },
  {
   "cell_type": "code",
   "execution_count": 4,
   "metadata": {},
   "outputs": [],
   "source": [
    "raio = 2631.2"
   ]
  },
  {
   "cell_type": "markdown",
   "metadata": {},
   "source": [
    "Para ver o que está armazenado na variável:"
   ]
  },
  {
   "cell_type": "code",
   "execution_count": 3,
   "metadata": {},
   "outputs": [
    {
     "data": {
      "text/plain": [
       "2631.2"
      ]
     },
     "execution_count": 3,
     "metadata": {},
     "output_type": "execute_result"
    }
   ],
   "source": [
    "raio"
   ]
  },
  {
   "cell_type": "markdown",
   "metadata": {},
   "source": [
    "Cálculo da área, usando a constante pi que está na biblioteca math (o ****** é o símbolo de potenciação):"
   ]
  },
  {
   "cell_type": "code",
   "execution_count": 58,
   "metadata": {},
   "outputs": [],
   "source": [
    "from math import pi\n",
    "area = pi * (2 * raio) ** 2"
   ]
  },
  {
   "cell_type": "markdown",
   "metadata": {},
   "source": [
    "Para mostrar o que está armazenado na variável:"
   ]
  },
  {
   "cell_type": "code",
   "execution_count": 52,
   "metadata": {},
   "outputs": [
    {
     "data": {
      "text/plain": [
       "86999665.92935248"
      ]
     },
     "execution_count": 52,
     "metadata": {},
     "output_type": "execute_result"
    }
   ],
   "source": [
    "area"
   ]
  },
  {
   "cell_type": "markdown",
   "metadata": {},
   "source": [
    "Usando formatação para deixar o número mais fácil de ler (o ponto separa a parte fracionária, e a vírgula separa os milhares): "
   ]
  },
  {
   "cell_type": "code",
   "execution_count": 25,
   "metadata": {},
   "outputs": [
    {
     "name": "stdout",
     "output_type": "stream",
     "text": [
      "86,999,665.93\n"
     ]
    }
   ],
   "source": [
    "print(\"{:,.2f}\".format(area))"
   ]
  },
  {
   "cell_type": "markdown",
   "metadata": {},
   "source": [
    "A variável é armazenada no computador em uma posição de memória. Para ver o endereço da memória:"
   ]
  },
  {
   "cell_type": "code",
   "execution_count": 59,
   "metadata": {},
   "outputs": [
    {
     "data": {
      "text/plain": [
       "139730122861104"
      ]
     },
     "execution_count": 59,
     "metadata": {},
     "output_type": "execute_result"
    }
   ],
   "source": [
    "id(area)"
   ]
  },
  {
   "cell_type": "markdown",
   "metadata": {},
   "source": [
    "Para criar uma nova variável de nome **nova** e colocar nela o valor de **area**:"
   ]
  },
  {
   "cell_type": "code",
   "execution_count": 60,
   "metadata": {},
   "outputs": [],
   "source": [
    "nova = area"
   ]
  },
  {
   "cell_type": "markdown",
   "metadata": {},
   "source": [
    "Para ver o que tem em **nova**:"
   ]
  },
  {
   "cell_type": "code",
   "execution_count": 28,
   "metadata": {},
   "outputs": [
    {
     "data": {
      "text/plain": [
       "86999665.92935248"
      ]
     },
     "execution_count": 28,
     "metadata": {},
     "output_type": "execute_result"
    }
   ],
   "source": [
    "nova"
   ]
  },
  {
   "cell_type": "markdown",
   "metadata": {},
   "source": [
    "Agora as duas variáveis, **nova** e **area** mostram o mesmo valor. Vamos ver o endereço (id) das duas variáveis:"
   ]
  },
  {
   "cell_type": "code",
   "execution_count": 61,
   "metadata": {},
   "outputs": [
    {
     "name": "stdout",
     "output_type": "stream",
     "text": [
      "139730122861104 139730122861104\n"
     ]
    }
   ],
   "source": [
    "print(id(area), id(nova))"
   ]
  },
  {
   "cell_type": "markdown",
   "metadata": {},
   "source": [
    "O endereço é o mesmo, as variáveis **nova** e **area** apontam para o mesmo lugar na memória. Não são duas variáveis independentes com dois endereços diferentes na memória. Não foi criada uma nova variável separada em um outro endereço de memória. Na verdade só mudou o nome, a variável é a mesma. É importante entender essa característica pois em algumas situações o resultado pode não ser o esperado.\n",
    "\n",
    "Para cálculos comuns, esse tipo de coisa costuma não dar problema, vamos mudar o valor da variável **area** e ver o que acontece:"
   ]
  },
  {
   "cell_type": "code",
   "execution_count": 62,
   "metadata": {},
   "outputs": [
    {
     "name": "stdout",
     "output_type": "stream",
     "text": [
      "94114956465184 139730122861104\n"
     ]
    }
   ],
   "source": [
    "area = 10\n",
    "print(id(area), id(nova))"
   ]
  },
  {
   "cell_type": "markdown",
   "metadata": {},
   "source": [
    "Dá para ver que o endereço mudou, agora sim são duas variáveis diferentes em endereços diferentes. Desse jeito não tem como dar confusão, mexendo em uma variável não mexe na outra, ficam duas coisas distintas e separadas.\n",
    "\n",
    "MAS...... cuidado, quando se usa por exemplo a biblioteca NumPy, aí o problema aparece e vira um caso sério. Vamos criar uma variável **a** contendo um array NumPy, e atribuir a outra variável **b**:"
   ]
  },
  {
   "cell_type": "code",
   "execution_count": 50,
   "metadata": {},
   "outputs": [
    {
     "name": "stdout",
     "output_type": "stream",
     "text": [
      "139730251691312 139730251691312\n"
     ]
    }
   ],
   "source": [
    "import numpy as np\n",
    "a = np.zeros(5)\n",
    "b = a\n",
    "print(id(a), id(b))"
   ]
  },
  {
   "cell_type": "markdown",
   "metadata": {},
   "source": [
    "Aqui neste caso, assim como no anterior, o endereço na memória é o mesmo. Agora vamos alterar a primeira variável para ver o que acontece. No exemplo anterior ele mudou o endereço e armazenou em outro lugar para não dar confusão. Vamos ver agora se ele faz o mesmo. Mas antes vamos conferir o que tem nas variáveis:"
   ]
  },
  {
   "cell_type": "code",
   "execution_count": 63,
   "metadata": {},
   "outputs": [
    {
     "name": "stdout",
     "output_type": "stream",
     "text": [
      "[0. 0. 0. 0. 0.] [0. 0. 0. 0. 0.]\n"
     ]
    }
   ],
   "source": [
    "print(a,b)"
   ]
  },
  {
   "cell_type": "markdown",
   "metadata": {},
   "source": [
    "Só tem zeros nas duas variáveis. Vamos agora colocar o valor 1 na primeira variável e ver o que acontece com a segunda:"
   ]
  },
  {
   "cell_type": "code",
   "execution_count": 64,
   "metadata": {},
   "outputs": [
    {
     "name": "stdout",
     "output_type": "stream",
     "text": [
      "[0. 0. 1. 0. 0.] [0. 0. 1. 0. 0.]\n"
     ]
    }
   ],
   "source": [
    "a[2:3] = 1\n",
    "print(a,b)"
   ]
  },
  {
   "cell_type": "markdown",
   "metadata": {},
   "source": [
    "Aqui neste caso já deu problema, a minha intenção era alterar somente a variável **a** mas no final acabou alterando também a variável **b**, que era uma coisa que eu não esperava. Eu esperava que as variáveis fossem diferentes, e alterando uma não mexia na outra, como no exemplo anterior.\n",
    "\n",
    "Para resolver esse problema, não pode usar a atribuição **b = a**, teria que ser desta forma:"
   ]
  },
  {
   "cell_type": "code",
   "execution_count": 65,
   "metadata": {},
   "outputs": [
    {
     "name": "stdout",
     "output_type": "stream",
     "text": [
      "139730120268816 139730120269376\n"
     ]
    }
   ],
   "source": [
    "import numpy as np\n",
    "a = np.zeros(5)\n",
    "b = np.zeros(5)\n",
    "print(id(a), id(b))"
   ]
  },
  {
   "cell_type": "markdown",
   "metadata": {},
   "source": [
    "Eu crio as duas variáveis sem usar o **b = a**, e então ele cria em endereços diferentes. Desta forma não dá problema."
   ]
  }
 ],
 "metadata": {
  "kernelspec": {
   "display_name": "Python 3",
   "language": "python",
   "name": "python3"
  },
  "language_info": {
   "codemirror_mode": {
    "name": "ipython",
    "version": 3
   },
   "file_extension": ".py",
   "mimetype": "text/x-python",
   "name": "python",
   "nbconvert_exporter": "python",
   "pygments_lexer": "ipython3",
   "version": "3.7.6"
  }
 },
 "nbformat": 4,
 "nbformat_minor": 4
}
