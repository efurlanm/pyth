{
 "cells": [
  {
   "cell_type": "markdown",
   "metadata": {},
   "source": [
    "# Introdução a Python"
   ]
  },
  {
   "cell_type": "markdown",
   "metadata": {
    "colab_type": "text",
    "id": "3s4k4sWZH0Ep"
   },
   "source": [
    "(este Notebook está em permanente construção)\n",
    "\n",
    "## Python\n",
    "\n",
    "Quando comecei na área de engenharia o computador não era tão difundido e a calculadora científica programável era a ferramenta indispensável do engenheiro para a realização dos cálculos. Hoje é impensável engenharia sem a utilização do computador como ferramenta. Se antes tínhamos que aprender a usar a calculadora científica, hoje temos que aprender a usar aplicativos de smartphone, planilhas, e mais recentemente, uma ferramenta poderosa para usar nos projetos de engenharia, que é o ambiente Python.\n",
    "\n",
    "Python não é apenas uma linguagem de programação, ele é um ecosistema constituído de vários recursos, como bibliotecas de programas para solução de problemas diversos, além de recursos como o Google Colab e o Jupyter Notebook, que estou utilizanddo para escrever este documento. \n",
    "\n",
    "Não há necessidade de ser um programador para utilizar Python. Na verdade não é necessário nem escrever um único programa para utilizar Python. Pode-se começar pelo básico na linha de comando e já obter algum resultado. Para quem conhece calculadoras científicas programáveis, é como se estivéssemos usando o teclado da calculadora sem usar o modo de programação.\n",
    "\n",
    "Python é interativo e fácil de usar, e durante a utilização ele geralmente tenta mostrar algum tipo de resultado ao invés de uma mensagem de erro, como aconteceria em outras \"linguagens\". Isso facilita bastante o aprendizado, pode-se \"brincar\" à vontade, ir digitando quase como que \"psicografando\" e ir obtendo resultados parciais até chegar no resultado final.\n",
    "\n",
    "Em particular, quando combinado com recursos como Jupyter Notebook (assim como este documento que estou escrevendo), além de bibliotecas prontas, Python torna-se uma das ferramentas mais poderosas que temos atualmente para utilizar na engenharia.\n",
    "\n",
    "A intenção deste documento não é ensinar programação, nem ser abrangente ou completo. O objetivo é mostrar como solucionar problemas simples de engenharia utilizando conceitos básicos de Python. Sugiro utilizar o [Google Colab](https://colab.research.google.com/) para executar os exemplos a seguir, porém existem outras formas de executá-los."
   ]
  },
  {
   "cell_type": "markdown",
   "metadata": {
    "colab_type": "text",
    "id": "3s4k4sWZH0Ep"
   },
   "source": [
    "## Calculadora\n",
    "\n",
    "Vamos começar com um exemplo extraído do manual da calculadora HP-34C, adaptado:\n",
    "\n",
    "![](img/ganimedes.jpg)\n",
    "\n",
    "Ganimedes, uma das 12 luas de Júpiter, tem um diâmetro de 3200 milhas. Você pode usar Python para calcular a área da superfície de Ganimedes, passo a passo:"
   ]
  },
  {
   "cell_type": "code",
   "execution_count": 1,
   "metadata": {
    "colab": {
     "base_uri": "https://localhost:8080/",
     "height": 34
    },
    "colab_type": "code",
    "id": "RA3VYS7UQ6Tm",
    "outputId": "5699641a-4f0a-4a0f-9a7e-d0768dc01437"
   },
   "outputs": [
    {
     "data": {
      "text/plain": [
       "3200.0"
      ]
     },
     "execution_count": 1,
     "metadata": {},
     "output_type": "execute_result"
    }
   ],
   "source": [
    "D1 = 3200.0    # diâmetro de Ganimedes\n",
    "D1             # mostra o diâmetro, armazenado na variável D"
   ]
  },
  {
   "cell_type": "markdown",
   "metadata": {
    "colab_type": "text",
    "id": "bIKWXXp-RWVp"
   },
   "source": [
    "O que está após o jogo da velha (`#`) são comentários, e não é executado. Serve apenas para documentar o que está sendo feito.\n",
    "\n",
    "Na primeira linha, `D1` é o nome da variável aonde armazenamos o número `3200.0`. Note que ele tem o ponto decimal seguido de zero (`.0`) que é para indicar que é um número real de número flutuante. Sem o `.0` seria um número inteiro.\n",
    "Na segunda linha, o `D1` sozinho indica que é para mostrar o valor que está na variável, o que é feito na linha de baixo, o `3200.0`. Notar mais uma vez o `.0` no final do número indicando que é um número real de ponto flutuante.\n",
    "\n",
    "A área de uma superfície esférica pode ser calculada usando a fórmula &nbsp;&nbsp; A = &pi; &times; D &sup2;\n",
    "\n",
    "O número Pi (&pi;) pode ser obitido de diversas maneiras. Pode-se simplesmente digitar \"3.1415\" que talvez seja o mais fácil, ou então utilizar uma constante definida em uma biblioteca:"
   ]
  },
  {
   "cell_type": "code",
   "execution_count": 2,
   "metadata": {},
   "outputs": [
    {
     "data": {
      "text/plain": [
       "3.141592653589793"
      ]
     },
     "execution_count": 2,
     "metadata": {},
     "output_type": "execute_result"
    }
   ],
   "source": [
    "import math         # biblioteca\n",
    "math.pi             # mostra o número Pi"
   ]
  },
  {
   "cell_type": "markdown",
   "metadata": {},
   "source": [
    "Na primeira linha o `import` chama uma biblioteca, que nada mais é do que um conjuntos de programas, constantes, e outras coisas que alguém já fez e deixou pronto para usar na biblioteca `math`. Acho que as bibliotecas são a parte mais importante do Python, pois tem muita gente fazendo bibliotecas e deixando pronto para as outras pessoas usarem, tem biblioteca de tudo que se possa imaginar.\n",
    "\n",
    "Neste nosso caso alguém já defininiu a constante `pi` e deixou pronto na biblioteca `math`. Se fosse uma calculadora científica, existiria uma tecla \"&pi;\" que bastaria apertar e o número Pi apareceria no visor, ou seja, alguém já deixou pronto o número Pi na calculadora e para mostrar basta apertar a tecla apropriada. Algumas calculadoras científicas programáveis permitem redefinir teclas, de tal forma que se não tiver a tecla Pi pré-programada, basta fazer um programa na calculadora que mostra o número Pi, e associar o programa a uma tecla. Ao apertar a tecla o número Pi aparece. O conceito aqui é programar a constante e deixar disponível para quando for usar. Mais para a frente falaremos mais sobre as bibliotecas Python. No momento não vamos programar nada, vamos só usar o que já está pronto.\n",
    "\n",
    "Na segunda linha, `math.pi` é a forma como chamamos o número `pi` que está na biblioteca `math`.\n",
    "\n",
    "Continuando:"
   ]
  },
  {
   "cell_type": "code",
   "execution_count": 3,
   "metadata": {
    "colab": {
     "base_uri": "https://localhost:8080/",
     "height": 34
    },
    "colab_type": "code",
    "id": "nD77_YqBhjE5",
    "outputId": "e8288018-e69f-409a-fe93-97b73465ef1c"
   },
   "outputs": [
    {
     "data": {
      "text/plain": [
       "32169908.772759482"
      ]
     },
     "execution_count": 3,
     "metadata": {},
     "output_type": "execute_result"
    }
   ],
   "source": [
    "A1 = D1**2 * math.pi    # na variável A1 colocamos o resultado do cálculo\n",
    "A1                      # o A1 sozinho, mostra o resultado"
   ]
  },
  {
   "cell_type": "markdown",
   "metadata": {
    "colab_type": "text",
    "id": "dB8roWZFiXGT"
   },
   "source": [
    "O sinal `**` é o de exponenciação, assim `D1**2` eleva o conteúdo da variável `D1` ao quadrado.\n",
    "\n",
    "O `*` é a multiplicação, e `math.pi` é o número Pi que alguém já colocou na biblioteca `math` e basta usar.\n",
    "\n",
    "Na variável `A1` armazenamos o resultado `32169908.772759482` que é a área da superfície de Ganimedes em milhas quadradas. É interessante ir colocando os resultados intermediários em variáveis para usar em cálculos subsequentes sem ter que redigitar. No caso colocamos o resultado do cálculo da superfície na variável `A1`. Se fosse uma calculadora científica, colocaríamos em uma memória, por exemplo, `STO 01`.\n",
    "\n",
    "Uma curiosidade aqui é que o resultado que está no manual da calculadora HP-34C é `32,169,908.78` .\n"
   ]
  },
  {
   "cell_type": "markdown",
   "metadata": {
    "colab": {},
    "colab_type": "code",
    "id": "2N7QHvgMiLl8"
   },
   "source": [
    "Io, outra lua de Júpiter, tem 3643.2 km de diâmetro. A área da superfície dela é maior ou menor do que a de Ganimedes?"
   ]
  },
  {
   "cell_type": "code",
   "execution_count": 13,
   "metadata": {},
   "outputs": [
    {
     "data": {
      "text/plain": [
       "41698064.73537012"
      ]
     },
     "execution_count": 13,
     "metadata": {},
     "output_type": "execute_result"
    }
   ],
   "source": [
    "D2 = 3643.2             # diãmetro de Io, em kilômetros\n",
    "A2 = D2**2 * math.pi    # mesma biblioteca \"math\" usada no cálculo acima\n",
    "A2                      # mostra a área, em kilômetros quadrados"
   ]
  },
  {
   "cell_type": "markdown",
   "metadata": {},
   "source": [
    "Agora basta comparar as duas áreas, certo?\n",
    "\n",
    "Só tem um probleminha, uma está em milhas quadradas, e a outra em kilômetros quadrados, então precisamos converter. Para converter de milhas para kilômetros multiplicamos por 1.60934. Talvez seja mais fácil refazer os cálculos, pois usando Python e Jupyter Notebook é fácil fazer um Ctrl-C/Ctrl-V:"
   ]
  },
  {
   "cell_type": "code",
   "execution_count": 19,
   "metadata": {},
   "outputs": [
    {
     "data": {
      "text/plain": [
       "83319267.05295825"
      ]
     },
     "execution_count": 19,
     "metadata": {},
     "output_type": "execute_result"
    }
   ],
   "source": [
    "D1 = 3200 * 1.60934     # conversão de milhas para kilômetros\n",
    "A1 = D1**2 * math.pi    # área em kilômetros quadrados\n",
    "A1                      # mostra o resultado"
   ]
  },
  {
   "cell_type": "markdown",
   "metadata": {},
   "source": [
    "Agora sim podemos comparar. Porém quando os números são grandes assim, a comparação visual fica um pouco difícil. Como temos as áreas armazenadas em variáveis (A1 e A2) talvez seja mais fácil perguntar para o Python:"
   ]
  },
  {
   "cell_type": "code",
   "execution_count": 21,
   "metadata": {},
   "outputs": [
    {
     "data": {
      "text/plain": [
       "True"
      ]
     },
     "execution_count": 21,
     "metadata": {},
     "output_type": "execute_result"
    }
   ],
   "source": [
    "A1 > A2"
   ]
  },
  {
   "cell_type": "markdown",
   "metadata": {},
   "source": [
    "Ou seja, a área de Ganimedes (A1) é maior do que a de Io (A2).\n",
    "\n",
    "Agora vamos perguntar se a área de Io é maior que a de Ganimedes:"
   ]
  },
  {
   "cell_type": "code",
   "execution_count": 23,
   "metadata": {},
   "outputs": [
    {
     "data": {
      "text/plain": [
       "False"
      ]
     },
     "execution_count": 23,
     "metadata": {},
     "output_type": "execute_result"
    }
   ],
   "source": [
    "A2 > A1"
   ]
  },
  {
   "cell_type": "markdown",
   "metadata": {},
   "source": [
    "Não, não é.\n",
    "\n",
    "E podemos brincar à vontade com as perguntas:"
   ]
  },
  {
   "cell_type": "code",
   "execution_count": 32,
   "metadata": {},
   "outputs": [
    {
     "data": {
      "text/plain": [
       "False"
      ]
     },
     "execution_count": 32,
     "metadata": {},
     "output_type": "execute_result"
    }
   ],
   "source": [
    "A1 == A2        # as áreas são iguais?"
   ]
  },
  {
   "cell_type": "code",
   "execution_count": 28,
   "metadata": {},
   "outputs": [
    {
     "data": {
      "text/plain": [
       "True"
      ]
     },
     "execution_count": 28,
     "metadata": {},
     "output_type": "execute_result"
    }
   ],
   "source": [
    "A1 != A2        # são diferentes?"
   ]
  },
  {
   "cell_type": "code",
   "execution_count": 31,
   "metadata": {},
   "outputs": [
    {
     "data": {
      "text/plain": [
       "False"
      ]
     },
     "execution_count": 31,
     "metadata": {},
     "output_type": "execute_result"
    }
   ],
   "source": [
    "A1 < A2         # é menor?"
   ]
  },
  {
   "cell_type": "code",
   "execution_count": 34,
   "metadata": {},
   "outputs": [
    {
     "data": {
      "text/plain": [
       "False"
      ]
     },
     "execution_count": 34,
     "metadata": {},
     "output_type": "execute_result"
    }
   ],
   "source": [
    "A1 > (2 * A2)   # Ganimedes é maior que o dobro de Io ?"
   ]
  },
  {
   "cell_type": "markdown",
   "metadata": {},
   "source": [
    "Note que até o momento não usamos uma linha sequer de programação, e assim mesmo já obtivemos vários resultados. Essa interatividade e facilidade de uso são coisas que atraem em Python."
   ]
  }
 ],
 "metadata": {
  "colab": {
   "authorship_tag": "ABX9TyPlZH/EIPSHnPu7yavkF1R2",
   "collapsed_sections": [],
   "name": "python01.ipynb",
   "provenance": []
  },
  "kernelspec": {
   "display_name": "Python 3",
   "language": "python",
   "name": "python3"
  },
  "language_info": {
   "codemirror_mode": {
    "name": "ipython",
    "version": 3
   },
   "file_extension": ".py",
   "mimetype": "text/x-python",
   "name": "python",
   "nbconvert_exporter": "python",
   "pygments_lexer": "ipython3",
   "version": "3.7.6"
  }
 },
 "nbformat": 4,
 "nbformat_minor": 4
}
