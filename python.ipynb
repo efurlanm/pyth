{
 "cells": [
  {
   "cell_type": "markdown",
   "metadata": {},
   "source": [
    "<img align=\"right\" src=\"img/ganimedes.jpg\" />\n",
    "<p>\n",
    "Ganimedes, uma das 12 luas de Júpiter, tem <a href=https://solarsystem.nasa.gov/moons/jupiter-moons/ganymede/by-the-numbers/> 2.631,2 km de raio </a>. Qual é a área da superfície de Ganimedes?\n",
    "</p>\n",
    "<p>\n",
    "Na variável <b>raio</b> colocamos o valor do raio (2631.2). O valor (usando ponto para separar a parte intera da fracionária) fica guardado na variável, que então pode ser usada a qualquer momento, sem precisar redigitar o valor.\n",
    "</p>\n",
    "<p>\n",
    "A área da superfície é calculada usando o quadrado do diâmetro multiplicado por pi. O valor de pi está na biblioteca math, em uma constante chamada <b>pi</b>.\n",
    "</p>"
   ]
  },
  {
   "cell_type": "markdown",
   "metadata": {},
   "source": [
    "<div style=\"float:right;\">\n",
    "\n",
    "![](img/ganimedes.jpg)\n",
    "    \n",
    "</div>\n",
    "<p>\n",
    "Ganimedes, uma das 12 luas de Júpiter, tem <a href=https://solarsystem.nasa.gov/moons/jupiter-moons/ganymede/by-the-numbers/> 2.631,2 km de raio </a>. Qual é a área da superfície de Ganimedes?\n",
    "</p>\n",
    "<p>\n",
    "Na variável <b>raio</b> colocamos o valor do raio (2631.2). O valor (usando ponto para separar a parte intera da fracionária) fica guardado na variável, que então pode ser usada a qualquer momento, sem precisar redigitar o valor.\n",
    "</p>\n",
    "<p>\n",
    "A área da superfície é calculada usando o quadrado do diâmetro multiplicado por pi. O valor de pi está na biblioteca math, em uma constante chamada <b>pi</b>.\n",
    "</p>"
   ]
  },
  {
   "cell_type": "code",
   "execution_count": 81,
   "metadata": {},
   "outputs": [],
   "source": [
    "raio = 2631.2"
   ]
  },
  {
   "cell_type": "markdown",
   "metadata": {},
   "source": [
    "Para ver o que está armazenado na variável:"
   ]
  },
  {
   "cell_type": "code",
   "execution_count": 3,
   "metadata": {},
   "outputs": [
    {
     "data": {
      "text/plain": [
       "2631.2"
      ]
     },
     "execution_count": 3,
     "metadata": {},
     "output_type": "execute_result"
    }
   ],
   "source": [
    "raio"
   ]
  },
  {
   "cell_type": "markdown",
   "metadata": {},
   "source": [
    "Cálculo da área, usando a constante pi que está na biblioteca math (o ****** é o símbolo de potenciação):"
   ]
  },
  {
   "cell_type": "code",
   "execution_count": 67,
   "metadata": {},
   "outputs": [],
   "source": [
    "from math import pi\n",
    "ganimedes = pi * (2 * raio) ** 2"
   ]
  },
  {
   "cell_type": "markdown",
   "metadata": {},
   "source": [
    "Para mostrar o que está armazenado na variável:"
   ]
  },
  {
   "cell_type": "code",
   "execution_count": 52,
   "metadata": {},
   "outputs": [
    {
     "data": {
      "text/plain": [
       "86999665.92935248"
      ]
     },
     "execution_count": 52,
     "metadata": {},
     "output_type": "execute_result"
    }
   ],
   "source": [
    "ganimedes"
   ]
  },
  {
   "cell_type": "markdown",
   "metadata": {},
   "source": [
    "Usando formatação para deixar o número mais fácil de ler (o ponto separa a parte fracionária, e a vírgula separa os milhares): "
   ]
  },
  {
   "cell_type": "code",
   "execution_count": 25,
   "metadata": {},
   "outputs": [
    {
     "name": "stdout",
     "output_type": "stream",
     "text": [
      "86,999,665.93\n"
     ]
    }
   ],
   "source": [
    "print(\"{:,.2f}\".format(ganimedes))"
   ]
  },
  {
   "cell_type": "markdown",
   "metadata": {},
   "source": [
    "A variável é armazenada no computador em uma posição de memória. Para ver o endereço da memória:"
   ]
  },
  {
   "cell_type": "code",
   "execution_count": 59,
   "metadata": {},
   "outputs": [
    {
     "data": {
      "text/plain": [
       "139730122861104"
      ]
     },
     "execution_count": 59,
     "metadata": {},
     "output_type": "execute_result"
    }
   ],
   "source": [
    "id(ganimedes)"
   ]
  },
  {
   "cell_type": "markdown",
   "metadata": {},
   "source": [
    "Para criar uma nova variável de nome **nova** e colocar nela o valor de **ganimedes**:"
   ]
  },
  {
   "cell_type": "code",
   "execution_count": 60,
   "metadata": {},
   "outputs": [],
   "source": [
    "nova = ganimedes"
   ]
  },
  {
   "cell_type": "markdown",
   "metadata": {},
   "source": [
    "Para ver o que tem em **nova**:"
   ]
  },
  {
   "cell_type": "code",
   "execution_count": 28,
   "metadata": {},
   "outputs": [
    {
     "data": {
      "text/plain": [
       "86999665.92935248"
      ]
     },
     "execution_count": 28,
     "metadata": {},
     "output_type": "execute_result"
    }
   ],
   "source": [
    "nova"
   ]
  },
  {
   "cell_type": "markdown",
   "metadata": {},
   "source": [
    "Agora as duas variáveis, **nova** e **ganimedes** mostram o mesmo valor. Vamos ver o endereço (id) das duas variáveis:"
   ]
  },
  {
   "cell_type": "code",
   "execution_count": 61,
   "metadata": {},
   "outputs": [
    {
     "name": "stdout",
     "output_type": "stream",
     "text": [
      "139730122861104 139730122861104\n"
     ]
    }
   ],
   "source": [
    "print(id(ganimedes), id(nova))"
   ]
  },
  {
   "cell_type": "markdown",
   "metadata": {},
   "source": [
    "O endereço é o mesmo, as variáveis **nova** e **ganimedes** apontam para o mesmo lugar na memória. Não são duas variáveis independentes com dois endereços diferentes na memória. Não foi criada uma nova variável separada em um outro endereço de memória. Na verdade só mudou o nome, a variável é a mesma. É importante entender essa característica pois em algumas situações o resultado pode não ser o esperado.\n",
    "\n",
    "Para cálculos comuns, esse tipo de coisa costuma não dar problema, vamos mudar o valor da variável **ganimedes** e ver o que acontece:"
   ]
  },
  {
   "cell_type": "code",
   "execution_count": 62,
   "metadata": {},
   "outputs": [
    {
     "name": "stdout",
     "output_type": "stream",
     "text": [
      "94114956465184 139730122861104\n"
     ]
    }
   ],
   "source": [
    "ganimedes = 10\n",
    "print(id(ganimedes), id(nova))"
   ]
  },
  {
   "cell_type": "markdown",
   "metadata": {},
   "source": [
    "Dá para ver que o endereço mudou, agora sim são duas variáveis diferentes em endereços diferentes. Desse jeito não tem como dar confusão, mexendo em uma variável não mexe na outra, ficam duas coisas distintas e separadas.\n",
    "\n",
    "MAS...... cuidado, quando se usa por exemplo a biblioteca NumPy, aí o problema aparece e vira um caso sério. Vamos criar uma variável **a** contendo um array NumPy, e atribuir a outra variável **b**:"
   ]
  },
  {
   "cell_type": "code",
   "execution_count": 50,
   "metadata": {},
   "outputs": [
    {
     "name": "stdout",
     "output_type": "stream",
     "text": [
      "139730251691312 139730251691312\n"
     ]
    }
   ],
   "source": [
    "import numpy as np\n",
    "a = np.zeros(5)\n",
    "b = a\n",
    "print(id(a), id(b))"
   ]
  },
  {
   "cell_type": "markdown",
   "metadata": {},
   "source": [
    "Aqui neste caso, assim como no anterior, o endereço na memória é o mesmo. Agora vamos alterar a primeira variável para ver o que acontece. No exemplo anterior ele mudou o endereço e armazenou em outro lugar para não dar confusão. Vamos ver agora se ele faz o mesmo. Mas antes vamos conferir o que tem nas variáveis:"
   ]
  },
  {
   "cell_type": "code",
   "execution_count": 63,
   "metadata": {},
   "outputs": [
    {
     "name": "stdout",
     "output_type": "stream",
     "text": [
      "[0. 0. 0. 0. 0.] [0. 0. 0. 0. 0.]\n"
     ]
    }
   ],
   "source": [
    "print(a,b)"
   ]
  },
  {
   "cell_type": "markdown",
   "metadata": {},
   "source": [
    "Só tem zeros nas duas variáveis. Vamos agora colocar o valor 1 na primeira variável e ver o que acontece com a segunda:"
   ]
  },
  {
   "cell_type": "code",
   "execution_count": 64,
   "metadata": {},
   "outputs": [
    {
     "name": "stdout",
     "output_type": "stream",
     "text": [
      "[0. 0. 1. 0. 0.] [0. 0. 1. 0. 0.]\n"
     ]
    }
   ],
   "source": [
    "a[2:3] = 1\n",
    "print(a,b)"
   ]
  },
  {
   "cell_type": "markdown",
   "metadata": {},
   "source": [
    "Aqui neste caso já deu problema, a minha intenção era alterar somente a variável **a** mas no final acabou alterando também a variável **b**, que era uma coisa que eu não esperava. Eu esperava que as variáveis fossem diferentes, e alterando uma não mexia na outra, como no exemplo anterior.\n",
    "\n",
    "Para resolver esse problema, não pode usar a atribuição **b = a**, teria que ser desta forma:"
   ]
  },
  {
   "cell_type": "code",
   "execution_count": 65,
   "metadata": {},
   "outputs": [
    {
     "name": "stdout",
     "output_type": "stream",
     "text": [
      "139730120268816 139730120269376\n"
     ]
    }
   ],
   "source": [
    "import numpy as np\n",
    "a = np.zeros(5)\n",
    "b = np.zeros(5)\n",
    "print(id(a), id(b))"
   ]
  },
  {
   "cell_type": "markdown",
   "metadata": {},
   "source": [
    "Eu crio as duas variáveis sem usar o **b = a**, e então ele cria em endereços diferentes. Desta forma não dá problema."
   ]
  },
  {
   "cell_type": "markdown",
   "metadata": {},
   "source": [
    "# Operadores algébricos"
   ]
  },
  {
   "cell_type": "markdown",
   "metadata": {},
   "source": [
    "![](img/europa.jpg)\n",
    "\n",
    "Europa, outra lua de Júpiter, tem raio de [1.560,8 km de raio](https://solarsystem.nasa.gov/moons/jupiter-moons/europa/in-depth/). Qual é a área da superfície?"
   ]
  },
  {
   "cell_type": "code",
   "execution_count": 71,
   "metadata": {},
   "outputs": [
    {
     "data": {
      "text/plain": [
       "30612893.23063511"
      ]
     },
     "execution_count": 71,
     "metadata": {},
     "output_type": "execute_result"
    }
   ],
   "source": [
    "from math import pi\n",
    "europa = pi * (2 * 1560.8) ** 2\n",
    "europa"
   ]
  },
  {
   "cell_type": "markdown",
   "metadata": {},
   "source": [
    "A área da superfície de Ganimedes é a mesma de Europa?"
   ]
  },
  {
   "cell_type": "code",
   "execution_count": 72,
   "metadata": {},
   "outputs": [
    {
     "data": {
      "text/plain": [
       "False"
      ]
     },
     "execution_count": 72,
     "metadata": {},
     "output_type": "execute_result"
    }
   ],
   "source": [
    "ganimedes == europa"
   ]
  },
  {
   "cell_type": "markdown",
   "metadata": {},
   "source": [
    "As áreas são diferentes?"
   ]
  },
  {
   "cell_type": "code",
   "execution_count": 73,
   "metadata": {},
   "outputs": [
    {
     "data": {
      "text/plain": [
       "True"
      ]
     },
     "execution_count": 73,
     "metadata": {},
     "output_type": "execute_result"
    }
   ],
   "source": [
    "ganimedes != europa"
   ]
  },
  {
   "cell_type": "markdown",
   "metadata": {},
   "source": [
    "Ganimedes é maior que Europa?"
   ]
  },
  {
   "cell_type": "code",
   "execution_count": 75,
   "metadata": {},
   "outputs": [
    {
     "data": {
      "text/plain": [
       "True"
      ]
     },
     "execution_count": 75,
     "metadata": {},
     "output_type": "execute_result"
    }
   ],
   "source": [
    "ganimedes > europa"
   ]
  },
  {
   "cell_type": "code",
   "execution_count": null,
   "metadata": {},
   "outputs": [],
   "source": []
  }
 ],
 "metadata": {
  "kernelspec": {
   "display_name": "Python 3",
   "language": "python",
   "name": "python3"
  },
  "language_info": {
   "codemirror_mode": {
    "name": "ipython",
    "version": 3
   },
   "file_extension": ".py",
   "mimetype": "text/x-python",
   "name": "python",
   "nbconvert_exporter": "python",
   "pygments_lexer": "ipython3",
   "version": "3.7.6"
  }
 },
 "nbformat": 4,
 "nbformat_minor": 4
}
