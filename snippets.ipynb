{
 "cells": [
  {
   "cell_type": "markdown",
   "metadata": {},
   "source": [
    "# Area for small tests and snippets"
   ]
  },
  {
   "cell_type": "markdown",
   "metadata": {},
   "source": [
    "## CSV"
   ]
  },
  {
   "cell_type": "code",
   "execution_count": 13,
   "metadata": {},
   "outputs": [],
   "source": [
    "import numpy as np\n",
    "a = np.array([5.45, -0.54, 1.81, 1.49, 0.48, 3.98, 0.93, 3.98])\n",
    "np.savetxt(\"foo.csv\", a, delimiter=\",\")"
   ]
  },
  {
   "cell_type": "code",
   "execution_count": 14,
   "metadata": {},
   "outputs": [
    {
     "name": "stdout",
     "output_type": "stream",
     "text": [
      "5.450000000000000178e+00\n",
      "-5.400000000000000355e-01\n",
      "1.810000000000000053e+00\n",
      "1.489999999999999991e+00\n",
      "4.799999999999999822e-01\n",
      "3.979999999999999982e+00\n",
      "9.300000000000000488e-01\n",
      "3.979999999999999982e+00\n"
     ]
    }
   ],
   "source": [
    "! cat foo.csv"
   ]
  },
  {
   "cell_type": "code",
   "execution_count": 1,
   "metadata": {},
   "outputs": [
    {
     "data": {
      "application/javascript": [
       "new Promise(function(resolve, reject) {\n",
       "\tvar script = document.createElement(\"script\");\n",
       "\tscript.onload = resolve;\n",
       "\tscript.onerror = reject;\n",
       "\tscript.src = \"https://raw.github.com/marijnh/CodeMirror/master/mode/fortran/fortran.js\";\n",
       "\tdocument.head.appendChild(script);\n",
       "}).then(() => {\n",
       "IPython.config.cell_magic_highlight['magic_fortran'] = {'reg':[/^%%fortran/]};\n",
       "});"
      ]
     },
     "metadata": {},
     "output_type": "display_data"
    }
   ],
   "source": [
    "%reload_ext fortranmagic"
   ]
  },
  {
   "cell_type": "code",
   "execution_count": 23,
   "metadata": {},
   "outputs": [],
   "source": [
    "%%fortran\n",
    "subroutine dataread(F, N, A)\n",
    "    character(*), intent(in) :: F\n",
    "    integer, intent(in) :: N\n",
    "    real(kind=8), dimension(N), intent(out) :: A\n",
    "    open(unit=1, file=F, status='old' ,action='read')\n",
    "    read(1, *) A\n",
    "    close(unit=1)\n",
    "end"
   ]
  },
  {
   "cell_type": "code",
   "execution_count": 25,
   "metadata": {},
   "outputs": [
    {
     "data": {
      "text/plain": [
       "array([ 5.45, -0.54,  1.81,  1.49,  0.48,  3.98,  0.93,  3.98])"
      ]
     },
     "execution_count": 25,
     "metadata": {},
     "output_type": "execute_result"
    }
   ],
   "source": [
    "dataread('foo.csv', 8)"
   ]
  },
  {
   "cell_type": "code",
   "execution_count": 22,
   "metadata": {},
   "outputs": [],
   "source": [
    "import numpy as np\n",
    "np.savetxt(\"data.csv\", np.random.rand(8))"
   ]
  },
  {
   "cell_type": "code",
   "execution_count": 26,
   "metadata": {},
   "outputs": [
    {
     "data": {
      "text/plain": [
       "array([0.39883258, 0.42250985, 0.4302079 , 0.84548039, 0.23139905,\n",
       "       0.53823888, 0.99016392, 0.37303136])"
      ]
     },
     "execution_count": 26,
     "metadata": {},
     "output_type": "execute_result"
    }
   ],
   "source": [
    "dataread('data.csv', 8)"
   ]
  },
  {
   "cell_type": "markdown",
   "metadata": {},
   "source": [
    "### Shape"
   ]
  },
  {
   "cell_type": "code",
   "execution_count": 37,
   "metadata": {},
   "outputs": [],
   "source": [
    "%%fortran\n",
    "subroutine main(A, B, C, D)\n",
    "    integer, dimension(3), intent(out) :: A\n",
    "    integer, intent(out) :: B, C, D\n",
    "    real, dimension(3,2,1) :: G\n",
    "    A = shape(G)\n",
    "    B = size(G,1)\n",
    "    C = size(G,2)\n",
    "    D = size(G,3)\n",
    "end"
   ]
  },
  {
   "cell_type": "code",
   "execution_count": 38,
   "metadata": {},
   "outputs": [
    {
     "data": {
      "text/plain": [
       "(array([3, 2, 1], dtype=int32), 3, 2, 1)"
      ]
     },
     "execution_count": 38,
     "metadata": {},
     "output_type": "execute_result"
    }
   ],
   "source": [
    "main()"
   ]
  },
  {
   "cell_type": "markdown",
   "metadata": {},
   "source": [
    "## Random seed"
   ]
  },
  {
   "cell_type": "code",
   "execution_count": 3,
   "metadata": {},
   "outputs": [
    {
     "data": {
      "application/javascript": [
       "new Promise(function(resolve, reject) {\n",
       "\tvar script = document.createElement(\"script\");\n",
       "\tscript.onload = resolve;\n",
       "\tscript.onerror = reject;\n",
       "\tscript.src = \"https://raw.github.com/marijnh/CodeMirror/master/mode/fortran/fortran.js\";\n",
       "\tdocument.head.appendChild(script);\n",
       "}).then(() => {\n",
       "IPython.config.cell_magic_highlight['magic_fortran'] = {'reg':[/^%%fortran/]};\n",
       "});"
      ]
     },
     "metadata": {},
     "output_type": "display_data"
    }
   ],
   "source": [
    "%reload_ext fortranmagic"
   ]
  },
  {
   "cell_type": "code",
   "execution_count": 8,
   "metadata": {},
   "outputs": [],
   "source": [
    "%%fortran\n",
    "subroutine main(A)\n",
    "    real(8), intent(out) :: A(3,3,3)\n",
    "    call random_seed(put=[0, 0, 0, 0, 0, 0, 0, 0])\n",
    "    call random_number(A)\n",
    "end"
   ]
  },
  {
   "cell_type": "code",
   "execution_count": 9,
   "metadata": {},
   "outputs": [
    {
     "data": {
      "text/plain": [
       "array([[[0.4710776 , 0.48932975, 0.60925987],\n",
       "        [0.18629752, 0.89838004, 0.00678346],\n",
       "        [0.2547749 , 0.42016636, 0.2152564 ]],\n",
       "\n",
       "       [[0.11734613, 0.71834291, 0.38438552],\n",
       "        [0.27928683, 0.6086828 , 0.90286098],\n",
       "        [0.95014959, 0.03347037, 0.14902492]],\n",
       "\n",
       "       [[0.88488368, 0.30022668, 0.21738487],\n",
       "        [0.41498327, 0.91296189, 0.66618389],\n",
       "        [0.5068759 , 0.81491469, 0.58335117]]])"
      ]
     },
     "execution_count": 9,
     "metadata": {},
     "output_type": "execute_result"
    }
   ],
   "source": [
    "main()"
   ]
  },
  {
   "cell_type": "code",
   "execution_count": 10,
   "metadata": {},
   "outputs": [
    {
     "data": {
      "text/plain": [
       "array([[[0.4710776 , 0.48932975, 0.60925987],\n",
       "        [0.18629752, 0.89838004, 0.00678346],\n",
       "        [0.2547749 , 0.42016636, 0.2152564 ]],\n",
       "\n",
       "       [[0.11734613, 0.71834291, 0.38438552],\n",
       "        [0.27928683, 0.6086828 , 0.90286098],\n",
       "        [0.95014959, 0.03347037, 0.14902492]],\n",
       "\n",
       "       [[0.88488368, 0.30022668, 0.21738487],\n",
       "        [0.41498327, 0.91296189, 0.66618389],\n",
       "        [0.5068759 , 0.81491469, 0.58335117]]])"
      ]
     },
     "execution_count": 10,
     "metadata": {},
     "output_type": "execute_result"
    }
   ],
   "source": [
    "main()"
   ]
  },
  {
   "cell_type": "markdown",
   "metadata": {},
   "source": [
    "### lowercase and uppercase"
   ]
  },
  {
   "cell_type": "code",
   "execution_count": 11,
   "metadata": {},
   "outputs": [
    {
     "name": "stdout",
     "output_type": "stream",
     "text": [
      "1 2\n"
     ]
    }
   ],
   "source": [
    "a = 1\n",
    "A = 2\n",
    "print(a, A)"
   ]
  },
  {
   "cell_type": "markdown",
   "metadata": {},
   "source": [
    "### \"for\" within the attribution"
   ]
  },
  {
   "cell_type": "code",
   "execution_count": 12,
   "metadata": {},
   "outputs": [
    {
     "data": {
      "text/plain": [
       "[[2.0, 0.6666666666666666, 0.4],\n",
       " [-2.0, 2.0, 0.6666666666666666],\n",
       " [-0.6666666666666666, -2.0, 2.0]]"
      ]
     },
     "execution_count": 12,
     "metadata": {},
     "output_type": "execute_result"
    }
   ],
   "source": [
    "n = 3\n",
    "a = [[1.0 / (i - j + 0.5) for i in range(n)] for j in range(n)]\n",
    "a"
   ]
  },
  {
   "cell_type": "code",
   "execution_count": 14,
   "metadata": {},
   "outputs": [
    {
     "data": {
      "text/plain": [
       "array([[ 2.        ,  0.66666667,  0.4       ],\n",
       "       [-2.        ,  2.        ,  0.66666667],\n",
       "       [-0.66666667, -2.        ,  2.        ]])"
      ]
     },
     "execution_count": 14,
     "metadata": {},
     "output_type": "execute_result"
    }
   ],
   "source": [
    "import numpy as np\n",
    "a = np.array(a)\n",
    "a"
   ]
  },
  {
   "cell_type": "code",
   "execution_count": null,
   "metadata": {},
   "outputs": [],
   "source": []
  }
 ],
 "metadata": {
  "kernelspec": {
   "display_name": "Python 3",
   "language": "python",
   "name": "python3"
  },
  "language_info": {
   "codemirror_mode": {
    "name": "ipython",
    "version": 3
   },
   "file_extension": ".py",
   "mimetype": "text/x-python",
   "name": "python",
   "nbconvert_exporter": "python",
   "pygments_lexer": "ipython3",
   "version": "3.7.6"
  }
 },
 "nbformat": 4,
 "nbformat_minor": 4
}
